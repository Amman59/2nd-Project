{
 "cells": [
  {
   "cell_type": "code",
   "execution_count": null,
   "metadata": {},
   "outputs": [],
   "source": [
    "#Monte Carlo method for estimating European Options.\n",
    "import numpy as np\n",
    "import math\n",
    "S0 =100. #Index Value\n",
    "K= 105. #Strike price of option\n",
    "T= 1.0 #Time up until maturity\n",
    "r=0.05 #riskless rate of short\n",
    "sigma = 0.2 #Volatility\n",
    "I =1000000 #No. of trials\n",
    "np.random.seed(1000)\n",
    "z= np.random.standard_normal(I)\n",
    "ST = S0 * np.exp((r-sigma ** 2 /2)*T + sigma * math.sqrt(T)*z)\n",
    "hT = np.maximum(ST-K,0) # payoff at maturity\n",
    "C0 = math.exp(-r*T)*np.mean(hT) # Monte Carlo Estimator\n",
    "print('The value of the European call option is : {:5.3f}.'.format(C0))\n"
   ]
  },
  {
   "cell_type": "code",
   "execution_count": null,
   "metadata": {},
   "outputs": [],
   "source": [
    "#Monte Carlo method for estimating European syle call Options.\n",
    "\n",
    "import math\n",
    "import numpy as np\n",
    "\n",
    "S0 =100. #Index Value\n",
    "K= 105. #Strike price of option\n",
    "T= 1.0 #Time up until maturity\n",
    "r=0.05 #riskless rate of short\n",
    "sigma = 0.2 #Volatility\n",
    "I =1000000 #No. of trials\n",
    "z= np.random.standard_normal(I)\n",
    "ST = S0 * np.exp((r-0.5*sigma**2)*T + sigma*math.sqrt(T)*z)\n",
    "hT = np.maximum(ST-K,0) # payoff at maturity\n",
    "C0 = math.exp(-r*T)*np.mean(hT) # Monte Carlo Estimator\n",
    "print('The value of the European option is',\"%3f\"%(C0))\n"
   ]
  }
 ],
 "metadata": {
  "kernelspec": {
   "display_name": "Python 3",
   "language": "python",
   "name": "python3"
  },
  "language_info": {
   "codemirror_mode": {
    "name": "ipython",
    "version": 3
   },
   "file_extension": ".py",
   "mimetype": "text/x-python",
   "name": "python",
   "nbconvert_exporter": "python",
   "pygments_lexer": "ipython3",
   "version": "3.10.13"
  }
 },
 "nbformat": 4,
 "nbformat_minor": 2
}
