{
 "cells": [
  {
   "cell_type": "code",
   "execution_count": 9,
   "metadata": {},
   "outputs": [
    {
     "name": "stdout",
     "output_type": "stream",
     "text": [
      "The value of the European call option is : 8.014.\n"
     ]
    }
   ],
   "source": [
    "#Monte Carlo method for estimating European Options.\n",
    "import numpy as np\n",
    "import math\n",
    "S0 =100. #Index Value\n",
    "K= 105. #Strike price of option\n",
    "T= 1.0 #Time up until maturity\n",
    "r=0.05 #riskless rate of short\n",
    "sigma = 0.2 #Volatility\n",
    "I =1000000 #No. of trials\n",
    "np.random.seed(1000)\n",
    "z= np.random.standard_normal(I)\n",
    "ST = S0 * np.exp((r-sigma ** 2 /2)*T + sigma * math.sqrt(T)*z)\n",
    "hT = np.maximum(ST-K,0) # payoff at maturity\n",
    "C0 = math.exp(-r*T)*np.mean(hT) # Monte Carlo Estimator\n",
    "print('The value of the European call option is : {:5.3f}.'.format(C0))\n",
    "\n"
   ]
  },
  {
   "cell_type": "code",
   "execution_count": 10,
   "metadata": {},
   "outputs": [
    {
     "name": "stdout",
     "output_type": "stream",
     "text": [
      "The value of the European call option is : 8.014.\n",
      "8.01361463852807\n"
     ]
    },
    {
     "data": {
      "text/plain": [
       "<matplotlib.lines.Line2D at 0x7f773e5d04f0>"
      ]
     },
     "execution_count": 10,
     "metadata": {},
     "output_type": "execute_result"
    },
    {
     "data": {
      "image/png": "[encoded data removed]",
      "text/plain": [
       "<Figure size 600x400 with 1 Axes>"
      ]
     },
     "metadata": {},
     "output_type": "display_data"
    }
   ],
   "source": [
    "##Monte Carlo method for estimating European Options.\n",
    "import numpy as np\n",
    "import math\n",
    "import matplotlib.pyplot as plt\n",
    "\n",
    "plt.style.use('ggplot')\n",
    "plt.rcParams['font.family'] = 'sans-serif' \n",
    "plt.rcParams['font.serif'] = 'Ubuntu' \n",
    "plt.rcParams['font.monospace'] = 'Ubuntu Mono' \n",
    "plt.rcParams['font.size'] = 14 \n",
    "plt.rcParams['axes.labelsize'] = 12 \n",
    "plt.rcParams['axes.labelweight'] = 'bold' \n",
    "plt.rcParams['axes.titlesize'] = 12 \n",
    "plt.rcParams['xtick.labelsize'] = 12 \n",
    "plt.rcParams['ytick.labelsize'] = 12 \n",
    "plt.rcParams['legend.fontsize'] = 12 \n",
    "plt.rcParams['figure.titlesize'] = 12 \n",
    "plt.rcParams['image.cmap'] = 'jet' \n",
    "plt.rcParams['image.interpolation'] = 'none' \n",
    "plt.rcParams['figure.figsize'] = (6, 4) \n",
    "plt.rcParams['axes.grid']=True\n",
    "plt.rcParams['lines.linewidth'] = 2 \n",
    "plt.rcParams['lines.markersize'] = 8\n",
    "colors = ['xkcd:pale orange', 'xkcd:sea blue', 'xkcd:pale red', 'xkcd:sage green', 'xkcd:terra cotta', 'xkcd:dull purple', 'xkcd:teal', 'xkcd: goldenrod', 'xkcd:cadet blue',\n",
    "'xkcd:scarlet']\n",
    "\n",
    "\n",
    "\n",
    "S0 =100. #Index Value\n",
    "K= 105. #Strike price of option\n",
    "T= 1.0 #Time up until maturity\n",
    "r=0.05 #riskless rate of short\n",
    "sigma = 0.2 #Volatility\n",
    "I =1000000 #No. of trials\n",
    "np.random.seed(1000)\n",
    "z= np.random.standard_normal(I)\n",
    "ST = S0 * np.exp((r-sigma ** 2 /2)*T + sigma * math.sqrt(T)*z)\n",
    "hT = np.maximum(ST-K,0) # payoff at maturity\n",
    "C0 = math.exp(-r*T)*np.mean(hT) # Monte Carlo Estimator\n",
    "print('The value of the European call option is : {:5.3f}.'.format(C0))\n",
    "a=100 * np.exp((0.05-0.2 ** 2 /2)*1 + 0.2 *math.sqrt(1)*z)\n",
    "b = np.maximum(a-105,0)\n",
    "q= math.exp(-0.05)*np.mean(b)\n",
    "gamma = a-100\n",
    "Alpha = np.mean(gamma)\n",
    "print(q)\n",
    "plt.hist(gamma, bins=int(10000/1))\n",
    "plt.axvline(Alpha,color = 'b')"
   ]
  }
 ],
 "metadata": {
  "kernelspec": {
   "display_name": "Python 3",
   "language": "python",
   "name": "python3"
  },
  "language_info": {
   "codemirror_mode": {
    "name": "ipython",
    "version": 3
   },
   "file_extension": ".py",
   "mimetype": "text/x-python",
   "name": "python",
   "nbconvert_exporter": "python",
   "pygments_lexer": "ipython3",
   "version": "3.10.13"
  }
 },
 "nbformat": 4,
 "nbformat_minor": 2
}
